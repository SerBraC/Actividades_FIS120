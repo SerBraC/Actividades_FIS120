{
 "cells": [
  {
   "cell_type": "code",
   "execution_count": 1,
   "id": "lyric-daughter",
   "metadata": {
    "tags": []
   },
   "outputs": [
    {
     "data": {
      "text/html": [
       "<style>\n",
       "div.jupyter-widgets.widget-label {display: none;}\n",
       "</style>\n"
      ],
      "text/plain": [
       "<IPython.core.display.HTML object>"
      ]
     },
     "metadata": {},
     "output_type": "display_data"
    }
   ],
   "source": [
    "%%html\n",
    "<style>\n",
    "div.jupyter-widgets.widget-label {display: none;}\n",
    "</style>"
   ]
  },
  {
   "cell_type": "code",
   "execution_count": 2,
   "id": "scheduled-parking",
   "metadata": {
    "tags": []
   },
   "outputs": [
    {
     "name": "stderr",
     "output_type": "stream",
     "text": [
      "Matplotlib is building the font cache; this may take a moment.\n"
     ]
    },
    {
     "data": {
      "application/vnd.jupyter.widget-view+json": {
       "model_id": "928604238b3742469f559eb1f8b66051",
       "version_major": 2,
       "version_minor": 0
      },
      "text/plain": [
       "HBox(children=(VBox(children=(BoundedFloatText(value=0.0, description='Coord. x:', max=7.0, min=-7.0, step=0.1…"
      ]
     },
     "metadata": {},
     "output_type": "display_data"
    }
   ],
   "source": [
    "%matplotlib widget\n",
    "import ipywidgets as widgets\n",
    "import matplotlib.pyplot as plt\n",
    "import numpy as np\n",
    "import random\n",
    "from IPython.display import display, clear_output\n",
    "\n",
    "def plot_draw():\n",
    " \n",
    "    \n",
    "    a = -7\n",
    "    b = 7\n",
    "       \n",
    "    x1 = round(random.uniform(a,b),1)\n",
    "    y1 = round(random.uniform(a,b),1)\n",
    "    x2 = round(random.uniform(a,b),1)\n",
    "    y2 = round(random.uniform(a,b),1)   \n",
    "    r =0.2\n",
    "    \n",
    "    print('\\n')\n",
    "    print('Las coordenadas de la carga roja son:',x1,'i',' , ',y1,'j', '[cm]')\n",
    "    print('Las coordenadas de la carga azul son:',x2,'i',' , ',y2,'j', '[cm]\\n')\n",
    "    print('Ingresa las coordenadas del vector desplazamiento')\n",
    "    print('que va desde la carga roja a la azul. \\n')\n",
    "    \n",
    "    with output:\n",
    "        fig = plt.figure(figsize=(4,4))\n",
    "        ax = fig.add_subplot(111)\n",
    "    \n",
    "    vect = ax.quiver(x1,y1, 0, 0, angles='xy', scale_units='xy', scale = 1)\n",
    "\n",
    "    Drawing_colored_circle1 = plt.Circle(( x1 , y1 ), r, color='r' )\n",
    "    Drawing_colored_circle2 = plt.Circle(( x2 , y2 ), r )\n",
    "\n",
    "    ax.axes.add_artist( Drawing_colored_circle1 ) \n",
    "    ax.axes.add_artist( Drawing_colored_circle2 ) \n",
    "    plt.axis('equal')\n",
    "    plt.xlim(-8,8)\n",
    "    plt.ylim(-8,8)\n",
    "    plt.xticks(np.arange(-8, 8, step=1))  # Set label locations.\n",
    "    plt.yticks(np.arange(-8, 8, step=1))\n",
    "    plt.xlabel('x [cm]')\n",
    "    plt.ylabel('y [cm]')\n",
    "    ax.axes.set_axisbelow(True)\n",
    "    plt.grid()\n",
    "    plt.show()\n",
    "\n",
    "#----------------------------------------------------------\n",
    "\n",
    "#def update_xlabel(change):\n",
    "#      ax.set_xlabel(change.new)\n",
    "     \n",
    "#def update_ylabel(change):\n",
    "#      ax.set_ylabel(change.new)\n",
    "        \n",
    "    def update_vec_x(*args):\n",
    "        vect.set_UVC(x_coord.value,y_coord.value)\n",
    "    \n",
    "    def update_vec_y(*args):\n",
    "        vect.set_UVC(x_coord.value,y_coord.value)\n",
    "    \n",
    "    \n",
    "    plot_draw.upd_x = update_vec_x\n",
    "    plot_draw.upd_y = update_vec_y\n",
    "    \n",
    "    \n",
    "# text_xlabel = widgets.Text(value='', description='xlabel', continuous_update=False)\n",
    "# text_ylabel = widgets.Text(value='', description='ylabel', continuous_update=False)\n",
    " \n",
    "# text_xlabel.observe(update_xlabel, 'value')\n",
    "# text_ylabel.observe(update_ylabel, 'value')\n",
    "\n",
    "#---------------------------------------------------------------------------------\n",
    "           \n",
    "\n",
    "\n",
    "\n",
    "x_coord = widgets.BoundedFloatText(value = 0,\n",
    "                                         min = -7.0,\n",
    "                                         max = 7.0,\n",
    "                                        step = 0.1,\n",
    "                                 description = 'Coord. x:',\n",
    "                                    disabled = False,\n",
    "                           continuous_update = False)\n",
    "\n",
    "y_coord = widgets.BoundedFloatText(value = 0,\n",
    "                                         min = -7.0,\n",
    "                                         max = 7.0,\n",
    "                                        step = 0.1,\n",
    "                                 description = 'Coord. y:',\n",
    "                                    disabled = False,\n",
    "                           continuous_update = False)\n",
    "\n",
    "b = widgets.Button(\n",
    "    description='Generar gráfico',\n",
    "    disabled=False,\n",
    "    button_style='info',\n",
    "    tooltip='Click me',\n",
    "    icon='check'\n",
    ")\n",
    "#display(b,x_coord,y_coord)    \n",
    "control = widgets.VBox([x_coord,y_coord, b])\n",
    "#display(control)\n",
    "output = widgets.Output()\n",
    "#display(output)\n",
    "c2 = widgets.HBox([control, output])\n",
    "display(c2)\n",
    "\n",
    "def on_button_clicked(b):\n",
    "    with output:\n",
    "        clear_output()\n",
    "        plot_draw()\n",
    "        x_coord.observe(plot_draw.upd_x,'value')\n",
    "        y_coord.observe(plot_draw.upd_y,'value')\n",
    "\n",
    "b.on_click(on_button_clicked)\n",
    "\n",
    "\n",
    "#controls = widgets.VBox([x_coord,y_coord])\n",
    "#widgets.HBox([controls, output])\n",
    "\n",
    "\n",
    "# display(reset_button)"
   ]
  },
  {
   "cell_type": "code",
   "execution_count": null,
   "id": "historical-transition",
   "metadata": {},
   "outputs": [],
   "source": []
  }
 ],
 "metadata": {
  "kernelspec": {
   "display_name": "Python 3",
   "language": "python",
   "name": "python3"
  },
  "language_info": {
   "codemirror_mode": {
    "name": "ipython",
    "version": 3
   },
   "file_extension": ".py",
   "mimetype": "text/x-python",
   "name": "python",
   "nbconvert_exporter": "python",
   "pygments_lexer": "ipython3",
   "version": "3.8.5"
  }
 },
 "nbformat": 4,
 "nbformat_minor": 5
}
